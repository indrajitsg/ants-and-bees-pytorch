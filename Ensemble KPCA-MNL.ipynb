{
 "cells": [
  {
   "cell_type": "markdown",
   "metadata": {},
   "source": [
    "# Ensemble Features - KPCA-MNL"
   ]
  },
  {
   "cell_type": "code",
   "execution_count": 1,
   "metadata": {},
   "outputs": [],
   "source": [
    "import torch\n",
    "import torch.nn as nn\n",
    "from model.resnet import resnet18\n",
    "from model.inception import inception_v3\n",
    "from model.vgg import vgg16\n",
    "from model.alexnet import alexnet\n",
    "from data_loader.data_loader import get_data_loader\n",
    "from model.utils import LayerActivations\n",
    "from torch.utils.data import DataLoader\n",
    "from torch.utils.data.dataset import Dataset"
   ]
  },
  {
   "cell_type": "code",
   "execution_count": 2,
   "metadata": {},
   "outputs": [
    {
     "name": "stdout",
     "output_type": "stream",
     "text": [
      "cuda:0\n"
     ]
    }
   ],
   "source": [
    "device = torch.device(\"cuda:0\" if torch.cuda.is_available() else \"cpu\")\n",
    "print(device)"
   ]
  },
  {
   "cell_type": "code",
   "execution_count": 3,
   "metadata": {},
   "outputs": [],
   "source": [
    "model1 = vgg16(pretrained=False, num_classes=2)\n",
    "model2 = resnet18(pretrained=False, num_classes=2)\n",
    "model3 = alexnet(pretrained=False, num_classes=2)"
   ]
  },
  {
   "cell_type": "code",
   "execution_count": 4,
   "metadata": {},
   "outputs": [
    {
     "data": {
      "text/plain": [
       "IncompatibleKeys(missing_keys=[], unexpected_keys=[])"
      ]
     },
     "execution_count": 4,
     "metadata": {},
     "output_type": "execute_result"
    }
   ],
   "source": [
    "# load checkpoint\n",
    "model1 = model1.to(device)\n",
    "best_vgg = torch.load('/data/Projects/repo/ants-and-bees-pytorch/outputs/best_model_vgg.pth')\n",
    "model1.load_state_dict(best_vgg)\n",
    "\n",
    "model2 = model2.to(device)\n",
    "best_resnet = torch.load('/data/Projects/repo/ants-and-bees-pytorch/outputs/best_model_resnet.pth')\n",
    "model2.load_state_dict(best_resnet)\n",
    "\n",
    "model3 = model3.to(device)\n",
    "best_alex = torch.load('/data/Projects/repo/ants-and-bees-pytorch/outputs/best_model_alex.pth')\n",
    "model3.load_state_dict(best_alex)"
   ]
  },
  {
   "cell_type": "code",
   "execution_count": 7,
   "metadata": {},
   "outputs": [],
   "source": [
    "model1 = nn.Sequential(*list(model1.children())[:-2])"
   ]
  },
  {
   "cell_type": "code",
   "execution_count": 8,
   "metadata": {},
   "outputs": [],
   "source": [
    "model2 = nn.Sequential(*list(model2.children())[:-2])"
   ]
  },
  {
   "cell_type": "code",
   "execution_count": 10,
   "metadata": {},
   "outputs": [],
   "source": [
    "model3 = nn.Sequential(*list(model3.children())[:-1])"
   ]
  },
  {
   "cell_type": "code",
   "execution_count": 5,
   "metadata": {},
   "outputs": [],
   "source": [
    "data_loader = get_data_loader()"
   ]
  },
  {
   "cell_type": "code",
   "execution_count": null,
   "metadata": {},
   "outputs": [],
   "source": []
  },
  {
   "cell_type": "code",
   "execution_count": null,
   "metadata": {},
   "outputs": [],
   "source": []
  },
  {
   "cell_type": "code",
   "execution_count": null,
   "metadata": {},
   "outputs": [],
   "source": []
  },
  {
   "cell_type": "code",
   "execution_count": null,
   "metadata": {},
   "outputs": [],
   "source": []
  },
  {
   "cell_type": "code",
   "execution_count": null,
   "metadata": {},
   "outputs": [],
   "source": []
  },
  {
   "cell_type": "code",
   "execution_count": null,
   "metadata": {},
   "outputs": [],
   "source": []
  },
  {
   "cell_type": "code",
   "execution_count": null,
   "metadata": {},
   "outputs": [],
   "source": [
    "# Extract features for VGG16\n",
    "trn_labels = []\n",
    "trn_vgg_features = []\n",
    "for d, la in data_loader['train']:\n",
    "    d = d.to(device)\n",
    "    with torch.no_grad():\n",
    "        out = model1(d)\n",
    "    out = out.view(out.size(0), -1)\n",
    "    trn_labels.extend(la)\n",
    "    trn_vgg_features.extend(out.cpu().data.numpy().tolist())\n",
    "\n",
    "val_labels = []\n",
    "val_vgg_features = []\n",
    "for d, la in data_loader['val']:\n",
    "    d = d.to(device)\n",
    "    with torch.no_grad():\n",
    "        out = model1(d)\n",
    "    out = out.view(out.size(0), -1)\n",
    "    val_labels.extend(la)\n",
    "    val_vgg_features.extend(out.cpu().data.numpy().tolist())"
   ]
  },
  {
   "cell_type": "code",
   "execution_count": null,
   "metadata": {},
   "outputs": [],
   "source": [
    "# Extract features for ResNet\n",
    "trn_resnet_features = []\n",
    "for d, la in data_loader['train']:\n",
    "    d = d.to(device)\n",
    "    with torch.no_grad():\n",
    "        out = model2(d)\n",
    "    out = out.view(out.size(0), -1)\n",
    "    trn_resnet_features.extend(out.cpu().data.numpy().tolist())\n",
    "\n",
    "val_resnet_features = []\n",
    "for d, la in data_loader['val']:\n",
    "    d = d.to(device)\n",
    "    with torch.no_grad():\n",
    "        out = model2(d)\n",
    "    out = out.view(out.size(0), -1)\n",
    "    val_resnet_features.extend(out.cpu().data.numpy().tolist())"
   ]
  },
  {
   "cell_type": "code",
   "execution_count": null,
   "metadata": {},
   "outputs": [],
   "source": [
    "# Extract features for Alexnet\n",
    "trn_alex_features = []\n",
    "for d, la in data_loader['train']:\n",
    "    d = d.to(device)\n",
    "    with torch.no_grad():\n",
    "        out = model3(d)\n",
    "    out = out.view(out.size(0), -1)\n",
    "    trn_alex_features.extend(out.cpu().data.numpy().tolist())\n",
    "\n",
    "val_alex_features = []\n",
    "for d, la in data_loader['val']:\n",
    "    d = d.to(device)\n",
    "    with torch.no_grad():\n",
    "        out = model3(d)\n",
    "    out = out.view(out.size(0), -1)\n",
    "    val_alex_features.extend(out.cpu().data.numpy().tolist())"
   ]
  },
  {
   "cell_type": "code",
   "execution_count": null,
   "metadata": {},
   "outputs": [],
   "source": [
    "class FeaturesDataset(Dataset):\n",
    "    def __init__(self,featlst1,featlst2,featlst3,labellst):\n",
    "        self.featlst1 = featlst1\n",
    "        self.featlst2 = featlst2\n",
    "        self.featlst3 = featlst3\n",
    "        self.labellst = labellst\n",
    "\n",
    "    def __getitem__(self,index):\n",
    "        return (self.featlst1[index],self.featlst2[index],self.featlst3[index],self.labellst[index])\n",
    "\n",
    "    def __len__(self):\n",
    "        return len(self.labellst)"
   ]
  },
  {
   "cell_type": "code",
   "execution_count": null,
   "metadata": {},
   "outputs": [],
   "source": [
    "trn_ensm_dset = FeaturesDataset(trn_vgg_features, trn_resnet_features, trn_alex_features, trn_labels)\n",
    "val_ensm_dset = FeaturesDataset(val_vgg_features, val_resnet_features, val_alex_features, val_labels)\n",
    "\n",
    "trn_ensm_loader = DataLoader(trn_ensm_dset,batch_size=8,shuffle=True)\n",
    "val_ensm_loader = DataLoader(val_ensm_dset,batch_size=8)"
   ]
  },
  {
   "cell_type": "code",
   "execution_count": null,
   "metadata": {},
   "outputs": [],
   "source": [
    "data = next(iter(trn_ensm_loader))"
   ]
  },
  {
   "cell_type": "code",
   "execution_count": null,
   "metadata": {},
   "outputs": [],
   "source": [
    "f1, f2, f3, la = data"
   ]
  },
  {
   "cell_type": "code",
   "execution_count": null,
   "metadata": {},
   "outputs": [],
   "source": [
    "f1"
   ]
  },
  {
   "cell_type": "code",
   "execution_count": null,
   "metadata": {},
   "outputs": [],
   "source": []
  }
 ],
 "metadata": {
  "kernelspec": {
   "display_name": "Python 3",
   "language": "python",
   "name": "python3"
  },
  "language_info": {
   "codemirror_mode": {
    "name": "ipython",
    "version": 3
   },
   "file_extension": ".py",
   "mimetype": "text/x-python",
   "name": "python",
   "nbconvert_exporter": "python",
   "pygments_lexer": "ipython3",
   "version": "3.6.9"
  }
 },
 "nbformat": 4,
 "nbformat_minor": 4
}
